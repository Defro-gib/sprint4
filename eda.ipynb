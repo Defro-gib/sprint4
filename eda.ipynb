{
 "cells": [
  {
   "cell_type": "code",
   "execution_count": null,
   "metadata": {},
   "outputs": [],
   "source": [
    "import pandas as pd\n",
    "#from matplotlib import pyplot as plt\n",
    "df = pd.read_csv('vehicles_us.csv')\n",
    "df.info()\n",
    "\n",
    "#df.plot(kind='hist')\n",
    "\n",
    "\n",
    "#plt.show()"
   ]
  }
 ],
 "metadata": {
  "kernelspec": {
   "display_name": "sprint4",
   "language": "python",
   "name": "python3"
  },
  "language_info": {
   "name": "python",
   "version": "3.10.14"
  }
 },
 "nbformat": 4,
 "nbformat_minor": 2
}
